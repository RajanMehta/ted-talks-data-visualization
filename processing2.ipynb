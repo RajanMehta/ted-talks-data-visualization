{
 "cells": [
  {
   "cell_type": "code",
   "execution_count": 1,
   "metadata": {
    "collapsed": true
   },
   "outputs": [],
   "source": [
    "import pandas as pd"
   ]
  },
  {
   "cell_type": "code",
   "execution_count": 94,
   "metadata": {
    "collapsed": true
   },
   "outputs": [],
   "source": [
    "df = pd.read_csv('ted_updated.csv', skipinitialspace = True, parse_dates=['film_date','published_date'])"
   ]
  },
  {
   "cell_type": "code",
   "execution_count": 95,
   "metadata": {
    "collapsed": true
   },
   "outputs": [],
   "source": [
    "df['published_year'] = df['published_date'].dt.year"
   ]
  },
  {
   "cell_type": "code",
   "execution_count": 96,
   "metadata": {},
   "outputs": [
    {
     "data": {
      "text/html": [
       "<div>\n",
       "<style scoped>\n",
       "    .dataframe tbody tr th:only-of-type {\n",
       "        vertical-align: middle;\n",
       "    }\n",
       "\n",
       "    .dataframe tbody tr th {\n",
       "        vertical-align: top;\n",
       "    }\n",
       "\n",
       "    .dataframe thead th {\n",
       "        text-align: right;\n",
       "    }\n",
       "</style>\n",
       "<table border=\"1\" class=\"dataframe\">\n",
       "  <thead>\n",
       "    <tr style=\"text-align: right;\">\n",
       "      <th></th>\n",
       "      <th>Unnamed: 0</th>\n",
       "      <th>comments</th>\n",
       "      <th>description</th>\n",
       "      <th>duration(mins)</th>\n",
       "      <th>event</th>\n",
       "      <th>film_date</th>\n",
       "      <th>languages</th>\n",
       "      <th>main_speaker</th>\n",
       "      <th>title</th>\n",
       "      <th>num_speaker</th>\n",
       "      <th>...</th>\n",
       "      <th>related_talks</th>\n",
       "      <th>speaker_occupation</th>\n",
       "      <th>tags</th>\n",
       "      <th>title.1</th>\n",
       "      <th>url</th>\n",
       "      <th>views</th>\n",
       "      <th>popular_rating</th>\n",
       "      <th>popular_rating_count</th>\n",
       "      <th>related_titles</th>\n",
       "      <th>published_year</th>\n",
       "    </tr>\n",
       "  </thead>\n",
       "  <tbody>\n",
       "    <tr>\n",
       "      <th>0</th>\n",
       "      <td>0</td>\n",
       "      <td>4553</td>\n",
       "      <td>Sir Ken Robinson makes an entertaining and pro...</td>\n",
       "      <td>19.4</td>\n",
       "      <td>TED2006</td>\n",
       "      <td>2006-02-25</td>\n",
       "      <td>60</td>\n",
       "      <td>Ken Robinson</td>\n",
       "      <td>Do schools kill creativity?</td>\n",
       "      <td>1</td>\n",
       "      <td>...</td>\n",
       "      <td>[{u'viewed_count': 7266103, u'hero': u'https:/...</td>\n",
       "      <td>Author/educator</td>\n",
       "      <td>['children', 'creativity', 'culture', 'dance',...</td>\n",
       "      <td>Do schools kill creativity?</td>\n",
       "      <td>https://www.ted.com/talks/ken_robinson_says_sc...</td>\n",
       "      <td>47227110</td>\n",
       "      <td>Inspiring</td>\n",
       "      <td>24924</td>\n",
       "      <td>[Bring on the learning revolution!, How to esc...</td>\n",
       "      <td>2006</td>\n",
       "    </tr>\n",
       "  </tbody>\n",
       "</table>\n",
       "<p>1 rows × 22 columns</p>\n",
       "</div>"
      ],
      "text/plain": [
       "   Unnamed: 0  comments                                        description  \\\n",
       "0           0      4553  Sir Ken Robinson makes an entertaining and pro...   \n",
       "\n",
       "   duration(mins)    event  film_date  languages  main_speaker  \\\n",
       "0            19.4  TED2006 2006-02-25         60  Ken Robinson   \n",
       "\n",
       "                         title  num_speaker       ...        \\\n",
       "0  Do schools kill creativity?            1       ...         \n",
       "\n",
       "                                       related_talks speaker_occupation  \\\n",
       "0  [{u'viewed_count': 7266103, u'hero': u'https:/...    Author/educator   \n",
       "\n",
       "                                                tags  \\\n",
       "0  ['children', 'creativity', 'culture', 'dance',...   \n",
       "\n",
       "                       title.1  \\\n",
       "0  Do schools kill creativity?   \n",
       "\n",
       "                                                 url     views popular_rating  \\\n",
       "0  https://www.ted.com/talks/ken_robinson_says_sc...  47227110      Inspiring   \n",
       "\n",
       "   popular_rating_count                                     related_titles  \\\n",
       "0                 24924  [Bring on the learning revolution!, How to esc...   \n",
       "\n",
       "   published_year  \n",
       "0            2006  \n",
       "\n",
       "[1 rows x 22 columns]"
      ]
     },
     "execution_count": 96,
     "metadata": {},
     "output_type": "execute_result"
    }
   ],
   "source": [
    "df.head(1)"
   ]
  },
  {
   "cell_type": "code",
   "execution_count": 97,
   "metadata": {
    "collapsed": true
   },
   "outputs": [],
   "source": [
    "df.sort_values(['published_year', 'views'], ascending=[True, False], inplace = True)"
   ]
  },
  {
   "cell_type": "code",
   "execution_count": 98,
   "metadata": {
    "collapsed": true
   },
   "outputs": [],
   "source": [
    "df2 = df.groupby('published_year').head(3)"
   ]
  },
  {
   "cell_type": "code",
   "execution_count": 99,
   "metadata": {},
   "outputs": [
    {
     "data": {
      "text/plain": [
       "Index([u'Unnamed: 0', u'comments', u'description', u'duration(mins)', u'event',\n",
       "       u'film_date', u'languages', u'main_speaker', u'title', u'num_speaker',\n",
       "       u'published_date', u'ratings', u'related_talks', u'speaker_occupation',\n",
       "       u'tags', u'title.1', u'url', u'views', u'popular_rating',\n",
       "       u'popular_rating_count', u'related_titles', u'published_year'],\n",
       "      dtype='object')"
      ]
     },
     "execution_count": 99,
     "metadata": {},
     "output_type": "execute_result"
    }
   ],
   "source": [
    "df2.columns"
   ]
  },
  {
   "cell_type": "code",
   "execution_count": 136,
   "metadata": {
    "collapsed": true
   },
   "outputs": [],
   "source": [
    "#df2.drop(columns=['title.1', 'popular_rating', 'popular_rating_count','ratingTotalCount'], axis=1, inplace=True)"
   ]
  },
  {
   "cell_type": "code",
   "execution_count": 101,
   "metadata": {},
   "outputs": [
    {
     "data": {
      "text/plain": [
       "Index([u'Unnamed: 0', u'comments', u'description', u'duration(mins)', u'event',\n",
       "       u'film_date', u'languages', u'main_speaker', u'title', u'num_speaker',\n",
       "       u'published_date', u'ratings', u'related_talks', u'speaker_occupation',\n",
       "       u'tags', u'url', u'views', u'related_titles', u'published_year'],\n",
       "      dtype='object')"
      ]
     },
     "execution_count": 101,
     "metadata": {},
     "output_type": "execute_result"
    }
   ],
   "source": [
    "df2.columns"
   ]
  },
  {
   "cell_type": "code",
   "execution_count": 102,
   "metadata": {},
   "outputs": [
    {
     "data": {
      "text/plain": [
       "36"
      ]
     },
     "execution_count": 102,
     "metadata": {},
     "output_type": "execute_result"
    }
   ],
   "source": [
    "len(df2)"
   ]
  },
  {
   "cell_type": "code",
   "execution_count": 105,
   "metadata": {
    "collapsed": true
   },
   "outputs": [],
   "source": [
    "df2.reset_index(inplace=True, drop=True)"
   ]
  },
  {
   "cell_type": "code",
   "execution_count": 107,
   "metadata": {},
   "outputs": [
    {
     "name": "stderr",
     "output_type": "stream",
     "text": [
      "C:\\Users\\Rajan\\Anaconda2\\lib\\site-packages\\ipykernel_launcher.py:1: SettingWithCopyWarning: \n",
      "A value is trying to be set on a copy of a slice from a DataFrame.\n",
      "Try using .loc[row_indexer,col_indexer] = value instead\n",
      "\n",
      "See the caveats in the documentation: http://pandas.pydata.org/pandas-docs/stable/indexing.html#indexing-view-versus-copy\n",
      "  \"\"\"Entry point for launching an IPython kernel.\n"
     ]
    }
   ],
   "source": [
    "df2['ratings'] = df2['ratings'].apply(lambda x: eval(str(x)))   #json string to json"
   ]
  },
  {
   "cell_type": "code",
   "execution_count": 108,
   "metadata": {},
   "outputs": [
    {
     "data": {
      "text/plain": [
       "[{u'count': 1102, u'id': 7, u'name': u'Funny'},\n",
       " {u'count': 721, u'id': 3, u'name': u'Courageous'},\n",
       " {u'count': 377, u'id': 21, u'name': u'Unconvincing'},\n",
       " {u'count': 301, u'id': 2, u'name': u'Confusing'},\n",
       " {u'count': 706, u'id': 1, u'name': u'Beautiful'},\n",
       " {u'count': 397, u'id': 9, u'name': u'Ingenious'},\n",
       " {u'count': 285, u'id': 11, u'name': u'Longwinded'},\n",
       " {u'count': 1038, u'id': 8, u'name': u'Informative'},\n",
       " {u'count': 5211, u'id': 10, u'name': u'Inspiring'},\n",
       " {u'count': 1350, u'id': 22, u'name': u'Fascinating'},\n",
       " {u'count': 2423, u'id': 24, u'name': u'Persuasive'},\n",
       " {u'count': 441, u'id': 25, u'name': u'OK'},\n",
       " {u'count': 669, u'id': 23, u'name': u'Jaw-dropping'},\n",
       " {u'count': 335, u'id': 26, u'name': u'Obnoxious'}]"
      ]
     },
     "execution_count": 108,
     "metadata": {},
     "output_type": "execute_result"
    }
   ],
   "source": [
    "df2['ratings'][1]"
   ]
  },
  {
   "cell_type": "code",
   "execution_count": 76,
   "metadata": {
    "collapsed": true
   },
   "outputs": [],
   "source": [
    "total_count = sum([d['count'] for d in df2['ratings'][1]])\n",
    "\n",
    "poitive_count = sum([d['count'] for d in df2['ratings'][1] \n",
    "         if d['name'] in ['Funny','Courageous','Beautiful','Informative',\n",
    "                            'Inspiring','Fascinating','Ingenious','Persuasive','Jaw-dropping'] ])"
   ]
  },
  {
   "cell_type": "code",
   "execution_count": 80,
   "metadata": {},
   "outputs": [
    {
     "data": {
      "text/plain": [
       "15356"
      ]
     },
     "execution_count": 80,
     "metadata": {},
     "output_type": "execute_result"
    }
   ],
   "source": [
    "total_count"
   ]
  },
  {
   "cell_type": "code",
   "execution_count": 143,
   "metadata": {
    "collapsed": true
   },
   "outputs": [],
   "source": [
    "positivity = []\n",
    "totalPositiveCount = []\n",
    "\n",
    "for i in range(len(df2['ratings'])):\n",
    "    total_count = sum([d['count'] for d in df2['ratings'][i]])\n",
    "    poitive_count = sum([d['count'] for d in df2['ratings'][i] \n",
    "         if d['name'] in ['Funny','Courageous','Beautiful','Informative',\n",
    "                            'Inspiring','Fascinating','Ingenious','Persuasive','Jaw-dropping'] ])\n",
    "    totalPositiveCount.append(poitive_count)\n",
    "    positivity.append(poitive_count/float(total_count))"
   ]
  },
  {
   "cell_type": "code",
   "execution_count": 146,
   "metadata": {},
   "outputs": [
    {
     "name": "stderr",
     "output_type": "stream",
     "text": [
      "C:\\Users\\Rajan\\Anaconda2\\lib\\site-packages\\ipykernel_launcher.py:1: SettingWithCopyWarning: \n",
      "A value is trying to be set on a copy of a slice from a DataFrame.\n",
      "Try using .loc[row_indexer,col_indexer] = value instead\n",
      "\n",
      "See the caveats in the documentation: http://pandas.pydata.org/pandas-docs/stable/indexing.html#indexing-view-versus-copy\n",
      "  \"\"\"Entry point for launching an IPython kernel.\n",
      "C:\\Users\\Rajan\\Anaconda2\\lib\\site-packages\\ipykernel_launcher.py:2: SettingWithCopyWarning: \n",
      "A value is trying to be set on a copy of a slice from a DataFrame.\n",
      "Try using .loc[row_indexer,col_indexer] = value instead\n",
      "\n",
      "See the caveats in the documentation: http://pandas.pydata.org/pandas-docs/stable/indexing.html#indexing-view-versus-copy\n",
      "  \n"
     ]
    }
   ],
   "source": [
    "df2['ratingTotalPositiveCount'] = totalPositiveCount\n",
    "df2['ratingPositivity'] = positivity"
   ]
  },
  {
   "cell_type": "code",
   "execution_count": 147,
   "metadata": {},
   "outputs": [
    {
     "data": {
      "text/html": [
       "<div>\n",
       "<style scoped>\n",
       "    .dataframe tbody tr th:only-of-type {\n",
       "        vertical-align: middle;\n",
       "    }\n",
       "\n",
       "    .dataframe tbody tr th {\n",
       "        vertical-align: top;\n",
       "    }\n",
       "\n",
       "    .dataframe thead th {\n",
       "        text-align: right;\n",
       "    }\n",
       "</style>\n",
       "<table border=\"1\" class=\"dataframe\">\n",
       "  <thead>\n",
       "    <tr style=\"text-align: right;\">\n",
       "      <th></th>\n",
       "      <th>Unnamed: 0</th>\n",
       "      <th>comments</th>\n",
       "      <th>description</th>\n",
       "      <th>duration(mins)</th>\n",
       "      <th>event</th>\n",
       "      <th>film_date</th>\n",
       "      <th>languages</th>\n",
       "      <th>main_speaker</th>\n",
       "      <th>title</th>\n",
       "      <th>num_speaker</th>\n",
       "      <th>...</th>\n",
       "      <th>ratings</th>\n",
       "      <th>related_talks</th>\n",
       "      <th>speaker_occupation</th>\n",
       "      <th>tags</th>\n",
       "      <th>url</th>\n",
       "      <th>views</th>\n",
       "      <th>related_titles</th>\n",
       "      <th>published_year</th>\n",
       "      <th>ratingPositivity</th>\n",
       "      <th>ratingTotalPositiveCount</th>\n",
       "    </tr>\n",
       "  </thead>\n",
       "  <tbody>\n",
       "    <tr>\n",
       "      <th>0</th>\n",
       "      <td>0</td>\n",
       "      <td>4553</td>\n",
       "      <td>Sir Ken Robinson makes an entertaining and pro...</td>\n",
       "      <td>19.40</td>\n",
       "      <td>TED2006</td>\n",
       "      <td>2006-02-25</td>\n",
       "      <td>60</td>\n",
       "      <td>Ken Robinson</td>\n",
       "      <td>Do schools kill creativity?</td>\n",
       "      <td>1</td>\n",
       "      <td>...</td>\n",
       "      <td>[{u'count': 19645, u'id': 7, u'name': u'Funny'...</td>\n",
       "      <td>[{u'viewed_count': 7266103, u'hero': u'https:/...</td>\n",
       "      <td>Author/educator</td>\n",
       "      <td>['children', 'creativity', 'culture', 'dance',...</td>\n",
       "      <td>https://www.ted.com/talks/ken_robinson_says_sc...</td>\n",
       "      <td>47227110</td>\n",
       "      <td>[Bring on the learning revolution!, How to esc...</td>\n",
       "      <td>2006</td>\n",
       "      <td>0.975365</td>\n",
       "      <td>91538</td>\n",
       "    </tr>\n",
       "    <tr>\n",
       "      <th>1</th>\n",
       "      <td>5</td>\n",
       "      <td>672</td>\n",
       "      <td>Tony Robbins discusses the \"invisible forces\" ...</td>\n",
       "      <td>21.75</td>\n",
       "      <td>TED2006</td>\n",
       "      <td>2006-02-02</td>\n",
       "      <td>36</td>\n",
       "      <td>Tony Robbins</td>\n",
       "      <td>Why we do what we do</td>\n",
       "      <td>1</td>\n",
       "      <td>...</td>\n",
       "      <td>[{u'count': 1102, u'id': 7, u'name': u'Funny'}...</td>\n",
       "      <td>[{u'viewed_count': 21190809, u'hero': u'https:...</td>\n",
       "      <td>Life coach; expert in leadership psychology</td>\n",
       "      <td>['business', 'culture', 'entertainment', 'goal...</td>\n",
       "      <td>https://www.ted.com/talks/tony_robbins_asks_wh...</td>\n",
       "      <td>20685401</td>\n",
       "      <td>[My stroke of insight, 8 secrets of success, T...</td>\n",
       "      <td>2006</td>\n",
       "      <td>0.886754</td>\n",
       "      <td>13617</td>\n",
       "    </tr>\n",
       "  </tbody>\n",
       "</table>\n",
       "<p>2 rows × 21 columns</p>\n",
       "</div>"
      ],
      "text/plain": [
       "   Unnamed: 0  comments                                        description  \\\n",
       "0           0      4553  Sir Ken Robinson makes an entertaining and pro...   \n",
       "1           5       672  Tony Robbins discusses the \"invisible forces\" ...   \n",
       "\n",
       "   duration(mins)    event  film_date  languages  main_speaker  \\\n",
       "0           19.40  TED2006 2006-02-25         60  Ken Robinson   \n",
       "1           21.75  TED2006 2006-02-02         36  Tony Robbins   \n",
       "\n",
       "                         title  num_speaker            ...             \\\n",
       "0  Do schools kill creativity?            1            ...              \n",
       "1         Why we do what we do            1            ...              \n",
       "\n",
       "                                             ratings  \\\n",
       "0  [{u'count': 19645, u'id': 7, u'name': u'Funny'...   \n",
       "1  [{u'count': 1102, u'id': 7, u'name': u'Funny'}...   \n",
       "\n",
       "                                       related_talks  \\\n",
       "0  [{u'viewed_count': 7266103, u'hero': u'https:/...   \n",
       "1  [{u'viewed_count': 21190809, u'hero': u'https:...   \n",
       "\n",
       "                            speaker_occupation  \\\n",
       "0                              Author/educator   \n",
       "1  Life coach; expert in leadership psychology   \n",
       "\n",
       "                                                tags  \\\n",
       "0  ['children', 'creativity', 'culture', 'dance',...   \n",
       "1  ['business', 'culture', 'entertainment', 'goal...   \n",
       "\n",
       "                                                 url     views  \\\n",
       "0  https://www.ted.com/talks/ken_robinson_says_sc...  47227110   \n",
       "1  https://www.ted.com/talks/tony_robbins_asks_wh...  20685401   \n",
       "\n",
       "                                      related_titles published_year  \\\n",
       "0  [Bring on the learning revolution!, How to esc...           2006   \n",
       "1  [My stroke of insight, 8 secrets of success, T...           2006   \n",
       "\n",
       "   ratingPositivity  ratingTotalPositiveCount  \n",
       "0          0.975365                     91538  \n",
       "1          0.886754                     13617  \n",
       "\n",
       "[2 rows x 21 columns]"
      ]
     },
     "execution_count": 147,
     "metadata": {},
     "output_type": "execute_result"
    }
   ],
   "source": [
    "df2.head(2)"
   ]
  },
  {
   "cell_type": "code",
   "execution_count": 148,
   "metadata": {
    "collapsed": true
   },
   "outputs": [],
   "source": [
    "df2.to_csv('ted_final.csv')"
   ]
  }
 ],
 "metadata": {
  "kernelspec": {
   "display_name": "Python 2",
   "language": "python",
   "name": "python2"
  },
  "language_info": {
   "codemirror_mode": {
    "name": "ipython",
    "version": 2
   },
   "file_extension": ".py",
   "mimetype": "text/x-python",
   "name": "python",
   "nbconvert_exporter": "python",
   "pygments_lexer": "ipython2",
   "version": "2.7.14"
  }
 },
 "nbformat": 4,
 "nbformat_minor": 2
}
